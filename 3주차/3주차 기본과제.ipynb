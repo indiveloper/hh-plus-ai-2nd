{
 "cells": [
  {
   "cell_type": "code",
   "execution_count": 1,
   "id": "81c84028-40f3-47c4-afdc-f26ea07ac39f",
   "metadata": {},
   "outputs": [
    {
     "name": "stderr",
     "output_type": "stream",
     "text": [
      "\u001b[34m\u001b[1mwandb\u001b[0m: Using wandb-core as the SDK backend.  Please refer to https://wandb.me/wandb-core for more information.\n",
      "\u001b[34m\u001b[1mwandb\u001b[0m: Currently logged in as: \u001b[33msooreal91\u001b[0m (\u001b[33msooreal91-free\u001b[0m). Use \u001b[1m`wandb login --relogin`\u001b[0m to force relogin\n"
     ]
    },
    {
     "data": {
      "text/html": [
       "Tracking run with wandb version 0.19.1"
      ],
      "text/plain": [
       "<IPython.core.display.HTML object>"
      ]
     },
     "metadata": {},
     "output_type": "display_data"
    },
    {
     "data": {
      "text/html": [
       "Run data is saved locally in <code>/Users/soojin/Documents/soojin/hh-plus-ai-2nd/3주차/wandb/run-20250103_155648-yoa03cmn</code>"
      ],
      "text/plain": [
       "<IPython.core.display.HTML object>"
      ]
     },
     "metadata": {},
     "output_type": "display_data"
    },
    {
     "data": {
      "text/html": [
       "Syncing run <strong><a href='https://wandb.ai/sooreal91-free/Distilbert-AGNews-Finetuning/runs/yoa03cmn' target=\"_blank\">distilbert-agnews-run</a></strong> to <a href='https://wandb.ai/sooreal91-free/Distilbert-AGNews-Finetuning' target=\"_blank\">Weights & Biases</a> (<a href='https://wandb.me/developer-guide' target=\"_blank\">docs</a>)<br>"
      ],
      "text/plain": [
       "<IPython.core.display.HTML object>"
      ]
     },
     "metadata": {},
     "output_type": "display_data"
    },
    {
     "data": {
      "text/html": [
       " View project at <a href='https://wandb.ai/sooreal91-free/Distilbert-AGNews-Finetuning' target=\"_blank\">https://wandb.ai/sooreal91-free/Distilbert-AGNews-Finetuning</a>"
      ],
      "text/plain": [
       "<IPython.core.display.HTML object>"
      ]
     },
     "metadata": {},
     "output_type": "display_data"
    },
    {
     "data": {
      "text/html": [
       " View run at <a href='https://wandb.ai/sooreal91-free/Distilbert-AGNews-Finetuning/runs/yoa03cmn' target=\"_blank\">https://wandb.ai/sooreal91-free/Distilbert-AGNews-Finetuning/runs/yoa03cmn</a>"
      ],
      "text/plain": [
       "<IPython.core.display.HTML object>"
      ]
     },
     "metadata": {},
     "output_type": "display_data"
    },
    {
     "name": "stderr",
     "output_type": "stream",
     "text": [
      "사용할 디바이스: mps\n",
      "Using cache found in /Users/soojin/.cache/torch/hub/huggingface_pytorch-transformers_main\n",
      "DistilBERT 토크나이저 로딩 완료 (소요시간: 2.36초)\n"
     ]
    },
    {
     "data": {
      "application/vnd.jupyter.widget-view+json": {
       "model_id": "7c8645bada144842af14d4c4b7bf0986",
       "version_major": 2,
       "version_minor": 0
      },
      "text/plain": [
       "README.md:   0%|          | 0.00/8.07k [00:00<?, ?B/s]"
      ]
     },
     "metadata": {},
     "output_type": "display_data"
    },
    {
     "data": {
      "application/vnd.jupyter.widget-view+json": {
       "model_id": "b5c02fae5b004a1999a94a2dda419049",
       "version_major": 2,
       "version_minor": 0
      },
      "text/plain": [
       "train-00000-of-00001.parquet:   0%|          | 0.00/18.6M [00:00<?, ?B/s]"
      ]
     },
     "metadata": {},
     "output_type": "display_data"
    },
    {
     "data": {
      "application/vnd.jupyter.widget-view+json": {
       "model_id": "9a6ac5ebf7f04b29ab006b9901289748",
       "version_major": 2,
       "version_minor": 0
      },
      "text/plain": [
       "test-00000-of-00001.parquet:   0%|          | 0.00/1.23M [00:00<?, ?B/s]"
      ]
     },
     "metadata": {},
     "output_type": "display_data"
    },
    {
     "data": {
      "application/vnd.jupyter.widget-view+json": {
       "model_id": "973286c3551149fe89eec9f98c13bd47",
       "version_major": 2,
       "version_minor": 0
      },
      "text/plain": [
       "Generating train split:   0%|          | 0/120000 [00:00<?, ? examples/s]"
      ]
     },
     "metadata": {},
     "output_type": "display_data"
    },
    {
     "data": {
      "application/vnd.jupyter.widget-view+json": {
       "model_id": "1c6d55f949f447538e3139944c1e3024",
       "version_major": 2,
       "version_minor": 0
      },
      "text/plain": [
       "Generating test split:   0%|          | 0/7600 [00:00<?, ? examples/s]"
      ]
     },
     "metadata": {},
     "output_type": "display_data"
    },
    {
     "name": "stderr",
     "output_type": "stream",
     "text": [
      "AG News 데이터셋 로드 완료 (소요시간: 5.87초)\n",
      "데이터셋 구조: DatasetDict({\n",
      "    train: Dataset({\n",
      "        features: ['text', 'label'],\n",
      "        num_rows: 120000\n",
      "    })\n",
      "    test: Dataset({\n",
      "        features: ['text', 'label'],\n",
      "        num_rows: 7600\n",
      "    })\n",
      "})\n",
      "DataLoader 준비 완료. Train 샘플: 120000, Test 샘플: 7600\n",
      "Using cache found in /Users/soojin/.cache/torch/hub/huggingface_pytorch-transformers_main\n",
      "DistilbertNewsClassifier 생성 및 DistilBERT 동결(Freeze) 완료.\n",
      "학습 준비 완료: Loss=CrossEntropyLoss(), LR=0.001, Epoch=3\n",
      "학습 루프 시작...\n",
      "====== 에폭 1/3 시작 ======\n",
      "Epoch 1/3:   0%|                                                                                                                                                                        | 0/1875 [00:00<?, ?batch/s]We strongly recommend passing in an `attention_mask` since your input_ids may be padded. See https://huggingface.co/docs/transformers/troubleshooting#incorrect-output-when-padding-tokens-arent-masked.\n",
      "Epoch 1/3: 100%|█████████████████████████████████████████████████████████████████████████████████████████████████████████████████████████████████████████████████████████████| 1875/1875 [11:13<00:00,  2.78batch/s]\n",
      "에폭 1/3 종료 -> 평균 Train Loss: 0.4689, Test Acc: 0.872, 에폭 시간: 708.74초\n",
      "====== 에폭 2/3 시작 ======\n",
      "Epoch 2/3: 100%|█████████████████████████████████████████████████████████████████████████████████████████████████████████████████████████████████████████████████████████████| 1875/1875 [11:09<00:00,  2.80batch/s]\n",
      "에폭 2/3 종료 -> 평균 Train Loss: 0.3731, Test Acc: 0.875, 에폭 시간: 703.77초\n",
      "====== 에폭 3/3 시작 ======\n",
      "Epoch 3/3: 100%|█████████████████████████████████████████████████████████████████████████████████████████████████████████████████████████████████████████████████████████████| 1875/1875 [11:18<00:00,  2.76batch/s]\n",
      "에폭 3/3 종료 -> 평균 Train Loss: 0.3590, Test Acc: 0.879, 에폭 시간: 713.03초\n",
      "학습 완료 (총 소요시간: 2125.57초)\n",
      "/var/folders/t0/l3_x1dfs3g91y2zbfgvx53l00000gn/T/ipykernel_55292/665989197.py:261: UserWarning: Glyph 45684 (\\N{HANGUL SYLLABLE NYU}) missing from font(s) DejaVu Sans.\n",
      "  plt.tight_layout()\n",
      "/var/folders/t0/l3_x1dfs3g91y2zbfgvx53l00000gn/T/ipykernel_55292/665989197.py:261: UserWarning: Glyph 49828 (\\N{HANGUL SYLLABLE SEU}) missing from font(s) DejaVu Sans.\n",
      "  plt.tight_layout()\n",
      "/var/folders/t0/l3_x1dfs3g91y2zbfgvx53l00000gn/T/ipykernel_55292/665989197.py:261: UserWarning: Glyph 44592 (\\N{HANGUL SYLLABLE GI}) missing from font(s) DejaVu Sans.\n",
      "  plt.tight_layout()\n",
      "/var/folders/t0/l3_x1dfs3g91y2zbfgvx53l00000gn/T/ipykernel_55292/665989197.py:261: UserWarning: Glyph 49324 (\\N{HANGUL SYLLABLE SA}) missing from font(s) DejaVu Sans.\n",
      "  plt.tight_layout()\n",
      "/var/folders/t0/l3_x1dfs3g91y2zbfgvx53l00000gn/T/ipykernel_55292/665989197.py:261: UserWarning: Glyph 48516 (\\N{HANGUL SYLLABLE BUN}) missing from font(s) DejaVu Sans.\n",
      "  plt.tight_layout()\n",
      "/var/folders/t0/l3_x1dfs3g91y2zbfgvx53l00000gn/T/ipykernel_55292/665989197.py:261: UserWarning: Glyph 47448 (\\N{HANGUL SYLLABLE RYU}) missing from font(s) DejaVu Sans.\n",
      "  plt.tight_layout()\n",
      "/var/folders/t0/l3_x1dfs3g91y2zbfgvx53l00000gn/T/ipykernel_55292/665989197.py:261: UserWarning: Glyph 44208 (\\N{HANGUL SYLLABLE GYEOL}) missing from font(s) DejaVu Sans.\n",
      "  plt.tight_layout()\n",
      "/var/folders/t0/l3_x1dfs3g91y2zbfgvx53l00000gn/T/ipykernel_55292/665989197.py:261: UserWarning: Glyph 44284 (\\N{HANGUL SYLLABLE GWA}) missing from font(s) DejaVu Sans.\n",
      "  plt.tight_layout()\n",
      "/var/folders/t0/l3_x1dfs3g91y2zbfgvx53l00000gn/T/ipykernel_55292/665989197.py:261: UserWarning: Glyph 48324 (\\N{HANGUL SYLLABLE BYEOL}) missing from font(s) DejaVu Sans.\n",
      "  plt.tight_layout()\n",
      "/var/folders/t0/l3_x1dfs3g91y2zbfgvx53l00000gn/T/ipykernel_55292/665989197.py:261: UserWarning: Glyph 49552 (\\N{HANGUL SYLLABLE SON}) missing from font(s) DejaVu Sans.\n",
      "  plt.tight_layout()\n",
      "/var/folders/t0/l3_x1dfs3g91y2zbfgvx53l00000gn/T/ipykernel_55292/665989197.py:261: UserWarning: Glyph 49892 (\\N{HANGUL SYLLABLE SIL}) missing from font(s) DejaVu Sans.\n",
      "  plt.tight_layout()\n",
      "/var/folders/t0/l3_x1dfs3g91y2zbfgvx53l00000gn/T/ipykernel_55292/665989197.py:261: UserWarning: Glyph 53580 (\\N{HANGUL SYLLABLE TE}) missing from font(s) DejaVu Sans.\n",
      "  plt.tight_layout()\n",
      "/var/folders/t0/l3_x1dfs3g91y2zbfgvx53l00000gn/T/ipykernel_55292/665989197.py:261: UserWarning: Glyph 53944 (\\N{HANGUL SYLLABLE TEU}) missing from font(s) DejaVu Sans.\n",
      "  plt.tight_layout()\n",
      "/var/folders/t0/l3_x1dfs3g91y2zbfgvx53l00000gn/T/ipykernel_55292/665989197.py:261: UserWarning: Glyph 51221 (\\N{HANGUL SYLLABLE JEONG}) missing from font(s) DejaVu Sans.\n",
      "  plt.tight_layout()\n",
      "/var/folders/t0/l3_x1dfs3g91y2zbfgvx53l00000gn/T/ipykernel_55292/665989197.py:261: UserWarning: Glyph 54869 (\\N{HANGUL SYLLABLE HWAG}) missing from font(s) DejaVu Sans.\n",
      "  plt.tight_layout()\n",
      "/var/folders/t0/l3_x1dfs3g91y2zbfgvx53l00000gn/T/ipykernel_55292/665989197.py:261: UserWarning: Glyph 46020 (\\N{HANGUL SYLLABLE DO}) missing from font(s) DejaVu Sans.\n",
      "  plt.tight_layout()\n",
      "/opt/anaconda3/envs/jinenv/lib/python3.12/site-packages/IPython/core/pylabtools.py:170: UserWarning: Glyph 45684 (\\N{HANGUL SYLLABLE NYU}) missing from font(s) DejaVu Sans.\n",
      "  fig.canvas.print_figure(bytes_io, **kw)\n",
      "/opt/anaconda3/envs/jinenv/lib/python3.12/site-packages/IPython/core/pylabtools.py:170: UserWarning: Glyph 49828 (\\N{HANGUL SYLLABLE SEU}) missing from font(s) DejaVu Sans.\n",
      "  fig.canvas.print_figure(bytes_io, **kw)\n",
      "/opt/anaconda3/envs/jinenv/lib/python3.12/site-packages/IPython/core/pylabtools.py:170: UserWarning: Glyph 44592 (\\N{HANGUL SYLLABLE GI}) missing from font(s) DejaVu Sans.\n",
      "  fig.canvas.print_figure(bytes_io, **kw)\n",
      "/opt/anaconda3/envs/jinenv/lib/python3.12/site-packages/IPython/core/pylabtools.py:170: UserWarning: Glyph 49324 (\\N{HANGUL SYLLABLE SA}) missing from font(s) DejaVu Sans.\n",
      "  fig.canvas.print_figure(bytes_io, **kw)\n",
      "/opt/anaconda3/envs/jinenv/lib/python3.12/site-packages/IPython/core/pylabtools.py:170: UserWarning: Glyph 48516 (\\N{HANGUL SYLLABLE BUN}) missing from font(s) DejaVu Sans.\n",
      "  fig.canvas.print_figure(bytes_io, **kw)\n",
      "/opt/anaconda3/envs/jinenv/lib/python3.12/site-packages/IPython/core/pylabtools.py:170: UserWarning: Glyph 47448 (\\N{HANGUL SYLLABLE RYU}) missing from font(s) DejaVu Sans.\n",
      "  fig.canvas.print_figure(bytes_io, **kw)\n",
      "/opt/anaconda3/envs/jinenv/lib/python3.12/site-packages/IPython/core/pylabtools.py:170: UserWarning: Glyph 44208 (\\N{HANGUL SYLLABLE GYEOL}) missing from font(s) DejaVu Sans.\n",
      "  fig.canvas.print_figure(bytes_io, **kw)\n",
      "/opt/anaconda3/envs/jinenv/lib/python3.12/site-packages/IPython/core/pylabtools.py:170: UserWarning: Glyph 44284 (\\N{HANGUL SYLLABLE GWA}) missing from font(s) DejaVu Sans.\n",
      "  fig.canvas.print_figure(bytes_io, **kw)\n",
      "/opt/anaconda3/envs/jinenv/lib/python3.12/site-packages/IPython/core/pylabtools.py:170: UserWarning: Glyph 48324 (\\N{HANGUL SYLLABLE BYEOL}) missing from font(s) DejaVu Sans.\n",
      "  fig.canvas.print_figure(bytes_io, **kw)\n",
      "/opt/anaconda3/envs/jinenv/lib/python3.12/site-packages/IPython/core/pylabtools.py:170: UserWarning: Glyph 49552 (\\N{HANGUL SYLLABLE SON}) missing from font(s) DejaVu Sans.\n",
      "  fig.canvas.print_figure(bytes_io, **kw)\n",
      "/opt/anaconda3/envs/jinenv/lib/python3.12/site-packages/IPython/core/pylabtools.py:170: UserWarning: Glyph 49892 (\\N{HANGUL SYLLABLE SIL}) missing from font(s) DejaVu Sans.\n",
      "  fig.canvas.print_figure(bytes_io, **kw)\n",
      "/opt/anaconda3/envs/jinenv/lib/python3.12/site-packages/IPython/core/pylabtools.py:170: UserWarning: Glyph 53580 (\\N{HANGUL SYLLABLE TE}) missing from font(s) DejaVu Sans.\n",
      "  fig.canvas.print_figure(bytes_io, **kw)\n",
      "/opt/anaconda3/envs/jinenv/lib/python3.12/site-packages/IPython/core/pylabtools.py:170: UserWarning: Glyph 53944 (\\N{HANGUL SYLLABLE TEU}) missing from font(s) DejaVu Sans.\n",
      "  fig.canvas.print_figure(bytes_io, **kw)\n",
      "/opt/anaconda3/envs/jinenv/lib/python3.12/site-packages/IPython/core/pylabtools.py:170: UserWarning: Glyph 51221 (\\N{HANGUL SYLLABLE JEONG}) missing from font(s) DejaVu Sans.\n",
      "  fig.canvas.print_figure(bytes_io, **kw)\n",
      "/opt/anaconda3/envs/jinenv/lib/python3.12/site-packages/IPython/core/pylabtools.py:170: UserWarning: Glyph 54869 (\\N{HANGUL SYLLABLE HWAG}) missing from font(s) DejaVu Sans.\n",
      "  fig.canvas.print_figure(bytes_io, **kw)\n",
      "/opt/anaconda3/envs/jinenv/lib/python3.12/site-packages/IPython/core/pylabtools.py:170: UserWarning: Glyph 46020 (\\N{HANGUL SYLLABLE DO}) missing from font(s) DejaVu Sans.\n",
      "  fig.canvas.print_figure(bytes_io, **kw)\n"
     ]
    },
    {
     "data": {
      "image/png": "[encoded data removed]",
      "text/plain": [
       "<Figure size 1400x600 with 2 Axes>"
      ]
     },
     "metadata": {},
     "output_type": "display_data"
    },
    {
     "name": "stderr",
     "output_type": "stream",
     "text": [
      "시각화 완료! 아래 그래프는\n",
      "1) 학습 손실이 어떻게 변하는지\n",
      "2) 테스트 정확도가 Epoch마다 얼마나 개선되는지\n",
      "직관적으로 보여줍니다.\n",
      "높은 정확도에 도달할수록 모델이 뉴스를 잘 분류한다는 의미입니다.\n"
     ]
    }
   ],
   "source": [
    "\"\"\"\n",
    "이 코드는 사전 학습된 DistilBERT를 이용해 AG News 기사 분류(4개 클래스)를 수행합니다.\n",
    "\n",
    "[개요]\n",
    "1) fancyzhx/ag_news 데이터셋을 불러옵니다 (4개 클래스).\n",
    "2) Truncation 없이 토큰화를 수행하고, 패딩만 적용하여 DataLoader를 구성합니다.\n",
    "3) DistilBERT 인코더는 Freeze(동결)하고, 마지막에 (768->4) Linear 레이어를 붙여 다중 클래스 분류를 수행합니다.\n",
    "4) 학습 시 CrossEntropyLoss를 사용하며, 오직 Test 데이터에 대해서만 정확도를 계산해봅니다.\n",
    "5) 매 Epoch마다 Train Loss와 Test 정확도를 로깅/시각화합니다.\n",
    "6) 시각화는 누구나 쉽게 이해할 수 있도록, 그래프와 문구를 풍부하게 표현합니다.\n",
    "7) 코드 최하단에는 (10) 다중 클래스 정확도 함수, (11) 학습 루프에 대한 라인별 상세 설명을 추가로 제공했습니다. \n",
    "   (코드 내부가 아닌, 아래 별도 섹션에 모아두었습니다.)\n",
    "\"\"\"\n",
    "\n",
    "import logging\n",
    "import time\n",
    "import wandb\n",
    "import torch\n",
    "import torch.nn as nn\n",
    "import matplotlib.pyplot as plt\n",
    "\n",
    "from torch.optim import Adam\n",
    "from torch.utils.data import DataLoader\n",
    "from datasets import load_dataset\n",
    "from tqdm import tqdm\n",
    "\n",
    "# -------------------------------------------------\n",
    "# (1) 로깅 설정\n",
    "# -------------------------------------------------\n",
    "logger = logging.getLogger(\"DistilbertAGNewsFinetuning\")\n",
    "logger.setLevel(logging.INFO)\n",
    "consoleHandler = logging.StreamHandler()\n",
    "consoleHandler.setLevel(logging.INFO)\n",
    "logger.addHandler(consoleHandler)\n",
    "\n",
    "# -------------------------------------------------\n",
    "# (2) Weights & Biases(W&B) 초기화\n",
    "# -------------------------------------------------\n",
    "wandb.init(project=\"Distilbert-AGNews-Finetuning\", name=\"distilbert-agnews-run\")\n",
    "\n",
    "# -------------------------------------------------\n",
    "# (3) 디바이스 선택\n",
    "# -------------------------------------------------\n",
    "device = \"mps\" if torch.backends.mps.is_available() else \"cuda\" if torch.cuda.is_available() else \"cpu\"\n",
    "logger.info(f\"사용할 디바이스: {device}\")\n",
    "\n",
    "# -------------------------------------------------\n",
    "# (4) DistilBERT Tokenizer 로드\n",
    "# -------------------------------------------------\n",
    "startTime = time.time()\n",
    "distilbertTokenizer = torch.hub.load(\n",
    "    'huggingface/pytorch-transformers',\n",
    "    'tokenizer',\n",
    "    'distilbert-base-uncased'\n",
    ")\n",
    "endTime = time.time()\n",
    "logger.info(f\"DistilBERT 토크나이저 로딩 완료 (소요시간: {endTime - startTime:.2f}초)\")\n",
    "\n",
    "# -------------------------------------------------\n",
    "# (5) AG News 데이터셋 로드 (fancyzhx/ag_news)\n",
    "# -------------------------------------------------\n",
    "startTime = time.time()\n",
    "agnewsDataset = load_dataset(\"fancyzhx/ag_news\")\n",
    "endTime = time.time()\n",
    "logger.info(f\"AG News 데이터셋 로드 완료 (소요시간: {endTime - startTime:.2f}초)\")\n",
    "logger.info(f\"데이터셋 구조: {agnewsDataset}\")\n",
    "\n",
    "# -------------------------------------------------\n",
    "# (6) collate_fn (Truncation 없이)\n",
    "# -------------------------------------------------\n",
    "def collateFunction(batch):\n",
    "    \"\"\"\n",
    "    AG News 샘플들을 받아 (text, label)을 추출하고,\n",
    "    DistilBERT 토크나이저를 통해 토큰 인덱스로 변환합니다.\n",
    "    Truncation은 사용하지 않고, padding만 적용합니다.\n",
    "    최종적으로 (inputIdsTensor, labelsTensor)를 반환합니다.\n",
    "    \"\"\"\n",
    "    textList = []\n",
    "    labelList = []\n",
    "\n",
    "    for row in batch:\n",
    "        textList.append(row[\"text\"])\n",
    "        labelList.append(row[\"label\"])  # AG News -> 4개 클래스 (0,1,2,3)\n",
    "\n",
    "    encodedBatch = distilbertTokenizer(\n",
    "        textList,\n",
    "        padding=True,   # 가장 긴 시퀀스 기준으로 [PAD] 토큰 삽입\n",
    "        truncation=False\n",
    "    )\n",
    "\n",
    "    inputIdsTensor = torch.LongTensor(encodedBatch[\"input_ids\"])\n",
    "    labelsTensor = torch.LongTensor(labelList)\n",
    "    return inputIdsTensor, labelsTensor\n",
    "\n",
    "# -------------------------------------------------\n",
    "# (7) DataLoader 구성\n",
    "# -------------------------------------------------\n",
    "trainDataLoader = DataLoader(\n",
    "    agnewsDataset[\"train\"],\n",
    "    batch_size=64,\n",
    "    shuffle=True,\n",
    "    collate_fn=collateFunction\n",
    ")\n",
    "testDataLoader = DataLoader(\n",
    "    agnewsDataset[\"test\"],\n",
    "    batch_size=64,\n",
    "    shuffle=False,\n",
    "    collate_fn=collateFunction\n",
    ")\n",
    "logger.info(f\"DataLoader 준비 완료. Train 샘플: {len(agnewsDataset['train'])}, Test 샘플: {len(agnewsDataset['test'])}\")\n",
    "\n",
    "# -------------------------------------------------\n",
    "# (8) 모델 정의 (DistilBERT + Linear(768->4))\n",
    "# -------------------------------------------------\n",
    "class DistilbertNewsClassifier(nn.Module):\n",
    "    \"\"\"\n",
    "    DistilBERT 인코더를 동결(Freeze)하고,\n",
    "    마지막에 4개 클래스를 분류하는 Linear 레이어를 추가합니다.\n",
    "    \"\"\"\n",
    "    def __init__(self):\n",
    "        super().__init__()\n",
    "        self.distilbertEncoder = torch.hub.load(\n",
    "            'huggingface/pytorch-transformers',\n",
    "            'model',\n",
    "            'distilbert-base-uncased'\n",
    "        )\n",
    "        self.classifierLayer = nn.Linear(768, 4)\n",
    "\n",
    "    def forward(self, inputIds):\n",
    "        outputs = self.distilbertEncoder(inputIds)\n",
    "        hiddenStates = outputs[\"last_hidden_state\"]\n",
    "        clsEmbedding = hiddenStates[:, 0, :]\n",
    "        logits = self.classifierLayer(clsEmbedding)  # shape: [batch_size, 4]\n",
    "        return logits\n",
    "\n",
    "model = DistilbertNewsClassifier()\n",
    "\n",
    "# DistilBERT 파라미터를 Freeze\n",
    "for param in model.distilbertEncoder.parameters():\n",
    "    param.requires_grad = False\n",
    "\n",
    "model = model.to(device)\n",
    "logger.info(\"DistilbertNewsClassifier 생성 및 DistilBERT 동결(Freeze) 완료.\")\n",
    "\n",
    "# -------------------------------------------------\n",
    "# (9) 학습 준비: CrossEntropyLoss + Adam\n",
    "# -------------------------------------------------\n",
    "lossFunction = nn.CrossEntropyLoss()\n",
    "learningRate = 0.001\n",
    "optimizer = Adam(model.parameters(), lr=learningRate)\n",
    "epochCount = 3\n",
    "\n",
    "logger.info(f\"학습 준비 완료: Loss={lossFunction}, LR={learningRate}, Epoch={epochCount}\")\n",
    "\n",
    "# -------------------------------------------------\n",
    "# (10) 다중 클래스 정확도 (Test 전용)\n",
    "# -------------------------------------------------\n",
    "def calculateTestAccuracy(model, dataLoader):\n",
    "    \"\"\"\n",
    "    오직 testDataLoader에 대해서만 정확도를 계산한다고 가정.\n",
    "    (4개 클래스 중 argmax 사용)\n",
    "    \"\"\"\n",
    "    model.eval()\n",
    "    correct = 0\n",
    "    total = 0\n",
    "\n",
    "    with torch.no_grad():\n",
    "        for inputIdsTensor, labelsTensor in dataLoader:\n",
    "            inputIdsTensor = inputIdsTensor.to(device)\n",
    "            labelsTensor = labelsTensor.to(device)\n",
    "\n",
    "            outputs = model(inputIdsTensor)\n",
    "            predictions = torch.argmax(outputs, dim=-1)\n",
    "            total += labelsTensor.size(0)\n",
    "            correct += (predictions == labelsTensor).sum().item()\n",
    "\n",
    "    return correct / total\n",
    "\n",
    "# -------------------------------------------------\n",
    "# (11) 학습 루프\n",
    "# -------------------------------------------------\n",
    "trainLossList = []\n",
    "testAccuracyList = []\n",
    "\n",
    "overallStartTime = time.time()\n",
    "logger.info(\"학습 루프 시작...\")\n",
    "\n",
    "for epochIndex in range(epochCount):\n",
    "    logger.info(f\"====== 에폭 {epochIndex+1}/{epochCount} 시작 ======\")\n",
    "    epochStartTime = time.time()\n",
    "\n",
    "    model.train()\n",
    "    totalLoss = 0.0\n",
    "\n",
    "    for inputIdsTensor, labelsTensor in tqdm(trainDataLoader, desc=f\"Epoch {epochIndex+1}/{epochCount}\", unit=\"batch\"):\n",
    "        inputIdsTensor = inputIdsTensor.to(device)\n",
    "        labelsTensor = labelsTensor.to(device)\n",
    "\n",
    "        optimizer.zero_grad()\n",
    "        logits = model(inputIdsTensor)  \n",
    "        lossValue = lossFunction(logits, labelsTensor)\n",
    "        lossValue.backward()\n",
    "        optimizer.step()\n",
    "\n",
    "        totalLoss += lossValue.item()\n",
    "\n",
    "    avgTrainLoss = totalLoss / len(trainDataLoader)\n",
    "    trainLossList.append(avgTrainLoss)\n",
    "\n",
    "    # 오직 Test 데이터에 대해서만 정확도 측정\n",
    "    testAcc = calculateTestAccuracy(model, testDataLoader)\n",
    "    testAccuracyList.append(testAcc)\n",
    "\n",
    "    epochEndTime = time.time()\n",
    "    epochDuration = epochEndTime - epochStartTime\n",
    "\n",
    "    logger.info(f\"에폭 {epochIndex+1}/{epochCount} 종료 -> 평균 Train Loss: {avgTrainLoss:.4f}, \"\n",
    "                f\"Test Acc: {testAcc:.3f}, \"\n",
    "                f\"에폭 시간: {epochDuration:.2f}초\")\n",
    "\n",
    "    wandb.log({\n",
    "        \"Epoch\": epochIndex+1,\n",
    "        \"Train Loss\": avgTrainLoss,\n",
    "        \"Test Accuracy\": testAcc,\n",
    "        \"Epoch Time(sec)\": epochDuration\n",
    "    })\n",
    "\n",
    "overallEndTime = time.time()\n",
    "logger.info(f\"학습 완료 (총 소요시간: {overallEndTime - overallStartTime:.2f}초)\")\n",
    "\n",
    "# -------------------------------------------------\n",
    "# (12) 시각화 (Train Loss, Test Accuracy)\n",
    "# -------------------------------------------------\n",
    "plt.figure(figsize=(14, 6))\n",
    "\n",
    "# (12-a) Train Loss\n",
    "plt.subplot(1, 2, 1)\n",
    "plt.plot(range(1, epochCount+1), trainLossList, marker='o', color='blue')\n",
    "plt.title(\"Train Loss by Epoch (뉴스 기사 분류)\")\n",
    "plt.xlabel(\"Epoch\")\n",
    "plt.ylabel(\"Train Loss\")\n",
    "plt.grid(True)\n",
    "plt.text(epochCount, trainLossList[-1],\n",
    "         f\"{trainLossList[-1]:.4f}\", color='blue', fontsize=10,\n",
    "         horizontalalignment='left')\n",
    "plt.ylim(min(trainLossList)*0.95, max(trainLossList)*1.05)\n",
    "\n",
    "# (12-b) Test Accuracy\n",
    "plt.subplot(1, 2, 2)\n",
    "plt.plot(range(1, epochCount+1), testAccuracyList, marker='o', color='red')\n",
    "plt.title(\"Test Accuracy by Epoch (뉴스 기사 분류)\")\n",
    "plt.xlabel(\"Epoch\")\n",
    "plt.ylabel(\"Accuracy\")\n",
    "plt.ylim(0, 1)\n",
    "plt.grid(True)\n",
    "plt.text(epochCount, testAccuracyList[-1],\n",
    "         f\"{testAccuracyList[-1]*100:.1f}%\", color='red', fontsize=10,\n",
    "         horizontalalignment='left')\n",
    "\n",
    "plt.suptitle(\"DistilBERT 뉴스 분류 결과 (Epoch별 손실 & 테스트 정확도)\", fontsize=14)\n",
    "plt.tight_layout()\n",
    "plt.show()\n",
    "\n",
    "logger.info(\"시각화 완료! 아래 그래프는\\n\"\n",
    "            \"1) 학습 손실이 어떻게 변하는지\\n\"\n",
    "            \"2) 테스트 정확도가 Epoch마다 얼마나 개선되는지\\n\"\n",
    "            \"직관적으로 보여줍니다.\\n\"\n",
    "            \"높은 정확도에 도달할수록 모델이 뉴스를 잘 분류한다는 의미입니다.\")"
   ]
  },
  {
   "cell_type": "code",
   "execution_count": null,
   "id": "cae54017-580b-4901-8ad5-3861d1276ac6",
   "metadata": {},
   "outputs": [],
   "source": []
  }
 ],
 "metadata": {
  "kernelspec": {
   "display_name": "Python jinenv",
   "language": "python",
   "name": "jinenv"
  },
  "language_info": {
   "codemirror_mode": {
    "name": "ipython",
    "version": 3
   },
   "file_extension": ".py",
   "mimetype": "text/x-python",
   "name": "python",
   "nbconvert_exporter": "python",
   "pygments_lexer": "ipython3",
   "version": "3.12.2"
  }
 },
 "nbformat": 4,
 "nbformat_minor": 5
}
